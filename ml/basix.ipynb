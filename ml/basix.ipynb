{
 "cells": [
  {
   "cell_type": "markdown",
   "id": "d0e5e6f2",
   "metadata": {},
   "source": [
    "## \n",
    "\n",
    "https://www.geeksforgeeks.org/dbms/data-preprocessing-in-data-mining/\n",
    "\n"
   ]
  },
  {
   "cell_type": "markdown",
   "id": "bb366595",
   "metadata": {},
   "source": [
    "## https://www.geeksforgeeks.org/machine-learning/interquartile-range-to-detect-outliers-in-data/\n",
    "\n",
    "- https://www.geeksforgeeks.org/machine-learning/interquartile-range-to-detect-outliers-in-data/"
   ]
  },
  {
   "cell_type": "code",
   "execution_count": 1,
   "id": "c9bb388f",
   "metadata": {},
   "outputs": [],
   "source": [
    "import numpy as np \n",
    "import seaborn as sns"
   ]
  },
  {
   "cell_type": "code",
   "execution_count": 2,
   "id": "b56b2202",
   "metadata": {},
   "outputs": [
    {
     "data": {
      "text/plain": [
       "array([ 1,  2,  3,  4,  5,  6, 50])"
      ]
     },
     "execution_count": 2,
     "metadata": {},
     "output_type": "execute_result"
    }
   ],
   "source": [
    "data = [6, 2, 3, 4, 5, 1, 50]\n",
    "sort_data = np.sort(data)\n",
    "sort_data"
   ]
  },
  {
   "cell_type": "markdown",
   "id": "83005835",
   "metadata": {},
   "source": [
    "### Calculating Q1, Q2, Q3 and IQR.\n"
   ]
  },
  {
   "cell_type": "code",
   "execution_count": 4,
   "id": "2b57c2b4",
   "metadata": {},
   "outputs": [
    {
     "name": "stdout",
     "output_type": "stream",
     "text": [
      "Q1 25 percentile of the given data is,  2.5\n",
      "Q1 50 percentile of the given data is,  4.0\n",
      "Q1 75 percentile of the given data is,  5.5\n",
      "Interquartile range is 3.0\n"
     ]
    }
   ],
   "source": [
    "Q1 = np.percentile(data, 25, interpolation = 'midpoint') \n",
    "Q2 = np.percentile(data, 50, interpolation = 'midpoint') \n",
    "Q3 = np.percentile(data, 75, interpolation = 'midpoint') \n",
    "\n",
    "print('Q1 25 percentile of the given data is, ', Q1)\n",
    "print('Q1 50 percentile of the given data is, ', Q2)\n",
    "print('Q1 75 percentile of the given data is, ', Q3)\n",
    "\n",
    "IQR = Q3 - Q1 \n",
    "print('Interquartile range is', IQR)"
   ]
  },
  {
   "cell_type": "markdown",
   "id": "9253f54a",
   "metadata": {},
   "source": [
    "### lowerr and upper limits"
   ]
  },
  {
   "cell_type": "markdown",
   "id": "534ed1ab",
   "metadata": {},
   "source": []
  },
  {
   "cell_type": "code",
   "execution_count": 5,
   "id": "62835a8b",
   "metadata": {},
   "outputs": [
    {
     "name": "stdout",
     "output_type": "stream",
     "text": [
      "low_limit is -2.0\n",
      "up_limit is 10.0\n"
     ]
    }
   ],
   "source": [
    "low_lim = Q1 - 1.5 * IQR\n",
    "up_lim = Q3 + 1.5 * IQR\n",
    "print('low_limit is', low_lim)\n",
    "print('up_limit is', up_lim)"
   ]
  },
  {
   "cell_type": "markdown",
   "id": "de47991c",
   "metadata": {},
   "source": [
    "### Identify the outliers."
   ]
  },
  {
   "cell_type": "markdown",
   "id": "ccd0ddc3",
   "metadata": {},
   "source": []
  },
  {
   "cell_type": "code",
   "execution_count": 8,
   "id": "cc0187e5",
   "metadata": {},
   "outputs": [
    {
     "name": "stdout",
     "output_type": "stream",
     "text": [
      " outlier in the dataset is [50]\n"
     ]
    }
   ],
   "source": [
    "outlier =[]\n",
    "for x in data:\n",
    "    if ((x> up_lim) or (x<low_lim)):\n",
    "         outlier.append(x)\n",
    "print(' outlier in the dataset is', outlier)"
   ]
  },
  {
   "cell_type": "markdown",
   "id": "d5493fa4",
   "metadata": {},
   "source": [
    "### Boxplot "
   ]
  },
  {
   "cell_type": "code",
   "execution_count": 9,
   "id": "54080b0b",
   "metadata": {},
   "outputs": [
    {
     "data": {
      "text/plain": [
       "<Axes: >"
      ]
     },
     "execution_count": 9,
     "metadata": {},
     "output_type": "execute_result"
    },
    {
     "data": {
      "image/png": "[encoded data removed]",
      "text/plain": [
       "<Figure size 640x480 with 1 Axes>"
      ]
     },
     "metadata": {},
     "output_type": "display_data"
    }
   ],
   "source": [
    "sns.boxplot(data)"
   ]
  }
 ],
 "metadata": {
  "kernelspec": {
   "display_name": ".venv",
   "language": "python",
   "name": "python3"
  },
  "language_info": {
   "codemirror_mode": {
    "name": "ipython",
    "version": 3
   },
   "file_extension": ".py",
   "mimetype": "text/x-python",
   "name": "python",
   "nbconvert_exporter": "python",
   "pygments_lexer": "ipython3",
   "version": "3.13.2"
  }
 },
 "nbformat": 4,
 "nbformat_minor": 5
}
